{
 "cells": [
  {
   "cell_type": "markdown",
   "metadata": {},
   "source": [
    "### Bài tập: Viết chương trình với yêu cầu dưới đây, mỗi yêu cầu bạn sẽ viết nó tại một cell trong file jupyter notebook. \n",
    "1) Bạn hãy tạo file và đặt tên file bất kỳ nhưng tên phải được viết thường và mỗi từ cách nhau bởi dấu gạch dưới \"_\", ví dụ như simple_message.ipynb. Sau đó hãy lập trình in chuỗi \"Hello world!\" ra màn hình.\n",
    "\n",
    " 2) Gán một chuỗi \"Have a nice day!\" vào biến message. Sau đó sử dụng câu lệnh print để hiển thị biến này ra màn hình.\n",
    "\n",
    " 3) Bạn hãy tạo một chuỗi \"Let's have Tet holidays!\" và gán vào biến với tên 1_message. \n",
    "\n",
    "Sau đó sử dụng câu lệnh print để hiển thị biến này ra màn hình. Nếu kết quả hiển thị \n",
    "thông báo lỗi, hãy xác định lỗi này là gì và sửa như thế nào? Sau đó chạy lại chương \n",
    "trình"
   ]
  },
  {
   "cell_type": "code",
   "execution_count": 1,
   "metadata": {},
   "outputs": [
    {
     "name": "stdout",
     "output_type": "stream",
     "text": [
      "hello word\n"
     ]
    }
   ],
   "source": [
    "print('hello word')"
   ]
  },
  {
   "cell_type": "code",
   "execution_count": 2,
   "metadata": {},
   "outputs": [
    {
     "name": "stdout",
     "output_type": "stream",
     "text": [
      "Have a nice day\n"
     ]
    }
   ],
   "source": [
    "message = 'Have a nice day'\n",
    "print(message)"
   ]
  },
  {
   "cell_type": "code",
   "execution_count": 6,
   "metadata": {},
   "outputs": [
    {
     "name": "stdout",
     "output_type": "stream",
     "text": [
      "Let's have Tet holiays!\n"
     ]
    }
   ],
   "source": [
    "message_1 = \"Let's have Tet holiays!\"\n",
    "print(message_1)"
   ]
  },
  {
   "cell_type": "markdown",
   "metadata": {},
   "source": [
    "### Bài tập:\n",
    "\n",
    "1. Tạo một biến name gán giá trị là tên một người, sau đó hiển thị ra màn hình một thông báo chứa tên đó sử dụng f-string. Ví dụ name = “Alice”, mình sẽ in ra màn hình nội dung là “Alice is a great teacher!”\n",
    "\n",
    "2. Tạo một biến và gán giá trị “ms Taylor” cho nó, sau đó thực hiện in ra màn hình giá trị biến đó được viết hoa ký tự đầu tiên mỗi từ hoặc viết toàn bộ bằng chữ chữ hoa, hoặc chữ thường.\n",
    "\n",
    " Input: name = “ms Taylor”\n",
    "\n",
    " Output: \n",
    "\n",
    "Title case: Ms Taylor \n",
    "\n",
    "Upper case: MS TAYLOR \n",
    "\n",
    "Lower case: ms taylor\n"
   ]
  },
  {
   "cell_type": "code",
   "execution_count": 7,
   "metadata": {},
   "outputs": [
    {
     "name": "stdout",
     "output_type": "stream",
     "text": [
      "Alice is a great teacher\n"
     ]
    }
   ],
   "source": [
    "name = \"Alice\" \n",
    "print(f\"{name} is a great teacher\")"
   ]
  },
  {
   "cell_type": "code",
   "execution_count": 4,
   "metadata": {},
   "outputs": [
    {
     "name": "stdout",
     "output_type": "stream",
     "text": [
      "Title case: Ms Taylor\n",
      "Upper case: MS TAYLOR\n",
      "Lower case: ms taylor\n"
     ]
    }
   ],
   "source": [
    "name = \"ms Taylor\"\n",
    "\n",
    "print(f\"Title case: {name.title()}\")\n",
    "print(f\"Upper case: {name.upper()}\")\n",
    "print(f\"Lower case: {name.lower()}\")\n"
   ]
  }
 ],
 "metadata": {
  "kernelspec": {
   "display_name": "Python 3",
   "language": "python",
   "name": "python3"
  },
  "language_info": {
   "codemirror_mode": {
    "name": "ipython",
    "version": 3
   },
   "file_extension": ".py",
   "mimetype": "text/x-python",
   "name": "python",
   "nbconvert_exporter": "python",
   "pygments_lexer": "ipython3",
   "version": "3.12.3"
  }
 },
 "nbformat": 4,
 "nbformat_minor": 2
}
